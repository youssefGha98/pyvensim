{
 "cells": [
  {
   "cell_type": "code",
   "execution_count": 1,
   "metadata": {},
   "outputs": [],
   "source": [
    "from models.auxiliary import Auxiliary\n",
    "from models.scenario import Scenario\n",
    "from models.scenario_manager import ScenarioManager\n",
    "from models.calibrator import Calibrator\n",
    "from models.visualization import Visualization\n",
    "import pandas as pd\n",
    "\n",
    "\n",
    "auxiliaries = [\n",
    "    Auxiliary(\"rabbit_reproduction_rate\", [0.1] * 1000),  # Constant value over time \n",
    "    Auxiliary(\n",
    "        \"hunting_rate\", [0.02, 0.015, 0.01, 0.005] * 250 \n",
    "    ),  # Pattern repeated over time\n",
    "    Auxiliary(\n",
    "        \"fox_reproduction_rate\", [0.01]\n",
    "    ),  # Constant, using a list for consistency\n",
    "    Auxiliary(\"fox_death_rate\", 0.1),  # Constant, using a float\n",
    "]\n",
    "\n",
    "# Initial values for the stocks\n",
    "initial_values = {\"rabbits\": 100, \"foxes\": 20}\n",
    "\n",
    "# Rates and rate functions for the flows\n",
    "rates = {\n",
    "    \"rabbit_birth\": {\n",
    "        \"rate_function\": lambda rabbits, rabbit_reproduction_rate: rabbits\n",
    "        * rabbit_reproduction_rate,\n",
    "        \"source\": None,\n",
    "        \"destination\": \"rabbits\",\n",
    "    },\n",
    "    \"rabbit_death\": {\n",
    "        \"rate_function\": lambda rabbits, foxes, hunting_rate: rabbits\n",
    "        * foxes\n",
    "        * hunting_rate,\n",
    "        \"source\": \"rabbits\",\n",
    "        \"destination\": None,\n",
    "    },\n",
    "    \"fox_birth\": {\n",
    "        \"rate_function\": lambda rabbits, foxes, fox_reproduction_rate: rabbits\n",
    "        * foxes\n",
    "        * fox_reproduction_rate,\n",
    "        \"source\": None,\n",
    "        \"destination\": \"foxes\",\n",
    "    },\n",
    "    \"fox_death\": {\n",
    "        \"rate_function\": lambda foxes, fox_death_rate: foxes * fox_death_rate,\n",
    "        \"source\": \"foxes\",\n",
    "        \"destination\": None,\n",
    "    },\n",
    "}\n",
    "scenario1 = Scenario(\"Base Scenario\", {\"rabbits\": 30, \"foxes\": 20}, rates, auxiliaries)\n"
   ]
  },
  {
   "cell_type": "code",
   "execution_count": 2,
   "metadata": {},
   "outputs": [
    {
     "data": {
      "text/html": [
       "<div>\n",
       "<style scoped>\n",
       "    .dataframe tbody tr th:only-of-type {\n",
       "        vertical-align: middle;\n",
       "    }\n",
       "\n",
       "    .dataframe tbody tr th {\n",
       "        vertical-align: top;\n",
       "    }\n",
       "\n",
       "    .dataframe thead th {\n",
       "        text-align: right;\n",
       "    }\n",
       "</style>\n",
       "<table border=\"1\" class=\"dataframe\">\n",
       "  <thead>\n",
       "    <tr style=\"text-align: right;\">\n",
       "      <th></th>\n",
       "      <th>foxes</th>\n",
       "      <th>rabbits</th>\n",
       "    </tr>\n",
       "  </thead>\n",
       "  <tbody>\n",
       "    <tr>\n",
       "      <th>0</th>\n",
       "      <td>19.58</td>\n",
       "      <td>30.09</td>\n",
       "    </tr>\n",
       "    <tr>\n",
       "      <th>1</th>\n",
       "      <td>19.60</td>\n",
       "      <td>45.15</td>\n",
       "    </tr>\n",
       "    <tr>\n",
       "      <th>2</th>\n",
       "      <td>19.61</td>\n",
       "      <td>49.15</td>\n",
       "    </tr>\n",
       "    <tr>\n",
       "      <th>3</th>\n",
       "      <td>11.99</td>\n",
       "      <td>39.52</td>\n",
       "    </tr>\n",
       "    <tr>\n",
       "      <th>4</th>\n",
       "      <td>28.04</td>\n",
       "      <td>21.23</td>\n",
       "    </tr>\n",
       "    <tr>\n",
       "      <th>...</th>\n",
       "      <td>...</td>\n",
       "      <td>...</td>\n",
       "    </tr>\n",
       "    <tr>\n",
       "      <th>86</th>\n",
       "      <td>19.52</td>\n",
       "      <td>8.31</td>\n",
       "    </tr>\n",
       "    <tr>\n",
       "      <th>87</th>\n",
       "      <td>82.11</td>\n",
       "      <td>16.01</td>\n",
       "    </tr>\n",
       "    <tr>\n",
       "      <th>88</th>\n",
       "      <td>89.76</td>\n",
       "      <td>24.82</td>\n",
       "    </tr>\n",
       "    <tr>\n",
       "      <th>89</th>\n",
       "      <td>81.66</td>\n",
       "      <td>29.70</td>\n",
       "    </tr>\n",
       "    <tr>\n",
       "      <th>90</th>\n",
       "      <td>15.76</td>\n",
       "      <td>35.40</td>\n",
       "    </tr>\n",
       "  </tbody>\n",
       "</table>\n",
       "<p>91 rows × 2 columns</p>\n",
       "</div>"
      ],
      "text/plain": [
       "    foxes  rabbits\n",
       "0   19.58    30.09\n",
       "1   19.60    45.15\n",
       "2   19.61    49.15\n",
       "3   11.99    39.52\n",
       "4   28.04    21.23\n",
       "..    ...      ...\n",
       "86  19.52     8.31\n",
       "87  82.11    16.01\n",
       "88  89.76    24.82\n",
       "89  81.66    29.70\n",
       "90  15.76    35.40\n",
       "\n",
       "[91 rows x 2 columns]"
      ]
     },
     "execution_count": 2,
     "metadata": {},
     "output_type": "execute_result"
    }
   ],
   "source": [
    "target_data = pd.read_excel('calibration_data_test.xlsx')\n",
    "df = target_data[['Predator','Prey']]\n",
    "df.columns = ['foxes','rabbits']\n",
    "df"
   ]
  },
  {
   "cell_type": "code",
   "execution_count": 3,
   "metadata": {},
   "outputs": [
    {
     "name": "stderr",
     "output_type": "stream",
     "text": [
      "/tmp/ipykernel_152076/2674402800.py:32: RuntimeWarning: overflow encountered in scalar multiply\n",
      "  \"rate_function\": lambda rabbits, foxes, hunting_rate: rabbits\n",
      "/tmp/ipykernel_152076/2674402800.py:39: RuntimeWarning: overflow encountered in scalar multiply\n",
      "  \"rate_function\": lambda rabbits, foxes, fox_reproduction_rate: rabbits\n"
     ]
    },
    {
     "ename": "ValueError",
     "evalue": "Stock value became non-finite",
     "output_type": "error",
     "traceback": [
      "\u001b[0;31m---------------------------------------------------------------------------\u001b[0m",
      "\u001b[0;31mValueError\u001b[0m                                Traceback (most recent call last)",
      "\u001b[1;32m/home/youssef/sys_dyn/test_calibration.ipynb Cell 3\u001b[0m line \u001b[0;36m3\n\u001b[1;32m      <a href='vscode-notebook-cell://wsl%2Bubuntu/home/youssef/sys_dyn/test_calibration.ipynb#W3sdnNjb2RlLXJlbW90ZQ%3D%3D?line=0'>1</a>\u001b[0m \u001b[39m# Création de l'objet Calibrator et exécution de la calibration\u001b[39;00m\n\u001b[1;32m      <a href='vscode-notebook-cell://wsl%2Bubuntu/home/youssef/sys_dyn/test_calibration.ipynb#W3sdnNjb2RlLXJlbW90ZQ%3D%3D?line=1'>2</a>\u001b[0m calibrator \u001b[39m=\u001b[39m Calibrator(scenario1)\n\u001b[0;32m----> <a href='vscode-notebook-cell://wsl%2Bubuntu/home/youssef/sys_dyn/test_calibration.ipynb#W3sdnNjb2RlLXJlbW90ZQ%3D%3D?line=2'>3</a>\u001b[0m optimized_params \u001b[39m=\u001b[39m calibrator\u001b[39m.\u001b[39;49mcalibrate(df, method\u001b[39m=\u001b[39;49m\u001b[39m\"\u001b[39;49m\u001b[39mleast_squares\u001b[39;49m\u001b[39m\"\u001b[39;49m)\n",
      "File \u001b[0;32m~/sys_dyn/models/calibrator.py:18\u001b[0m, in \u001b[0;36mCalibrator.calibrate\u001b[0;34m(self, data, method)\u001b[0m\n\u001b[1;32m     16\u001b[0m \u001b[39mdef\u001b[39;00m \u001b[39mcalibrate\u001b[39m(\u001b[39mself\u001b[39m, data, method\u001b[39m=\u001b[39m\u001b[39m\"\u001b[39m\u001b[39mleast_squares\u001b[39m\u001b[39m\"\u001b[39m):\n\u001b[1;32m     17\u001b[0m     \u001b[39mif\u001b[39;00m method \u001b[39min\u001b[39;00m \u001b[39mself\u001b[39m\u001b[39m.\u001b[39mmethods:\n\u001b[0;32m---> 18\u001b[0m         \u001b[39mreturn\u001b[39;00m \u001b[39mself\u001b[39;49m\u001b[39m.\u001b[39;49mmethods[method](data)\n\u001b[1;32m     19\u001b[0m     \u001b[39melse\u001b[39;00m:\n\u001b[1;32m     20\u001b[0m         \u001b[39mraise\u001b[39;00m \u001b[39mValueError\u001b[39;00m(\u001b[39mf\u001b[39m\u001b[39m\"\u001b[39m\u001b[39mMethod \u001b[39m\u001b[39m'\u001b[39m\u001b[39m{\u001b[39;00mmethod\u001b[39m}\u001b[39;00m\u001b[39m'\u001b[39m\u001b[39m not supported.\u001b[39m\u001b[39m\"\u001b[39m)\n",
      "File \u001b[0;32m~/sys_dyn/models/calibrator.py:56\u001b[0m, in \u001b[0;36mCalibrator._least_squares\u001b[0;34m(self, data)\u001b[0m\n\u001b[1;32m     53\u001b[0m     \u001b[39mreturn\u001b[39;00m np\u001b[39m.\u001b[39msum((simulated_stock_values \u001b[39m-\u001b[39m target_data_array) \u001b[39m*\u001b[39m\u001b[39m*\u001b[39m \u001b[39m2\u001b[39m)\n\u001b[1;32m     55\u001b[0m initial_params \u001b[39m=\u001b[39m \u001b[39mself\u001b[39m\u001b[39m.\u001b[39m_get_initial_params()\n\u001b[0;32m---> 56\u001b[0m result \u001b[39m=\u001b[39m minimize(objective_function, initial_params, method\u001b[39m=\u001b[39;49m\u001b[39m\"\u001b[39;49m\u001b[39mL-BFGS-B\u001b[39;49m\u001b[39m\"\u001b[39;49m)\n\u001b[1;32m     57\u001b[0m \u001b[39mreturn\u001b[39;00m result\u001b[39m.\u001b[39mx\n",
      "File \u001b[0;32m~/venv-test/lib/python3.10/site-packages/scipy/optimize/_minimize.py:710\u001b[0m, in \u001b[0;36mminimize\u001b[0;34m(fun, x0, args, method, jac, hess, hessp, bounds, constraints, tol, callback, options)\u001b[0m\n\u001b[1;32m    707\u001b[0m     res \u001b[39m=\u001b[39m _minimize_newtoncg(fun, x0, args, jac, hess, hessp, callback,\n\u001b[1;32m    708\u001b[0m                              \u001b[39m*\u001b[39m\u001b[39m*\u001b[39moptions)\n\u001b[1;32m    709\u001b[0m \u001b[39melif\u001b[39;00m meth \u001b[39m==\u001b[39m \u001b[39m'\u001b[39m\u001b[39ml-bfgs-b\u001b[39m\u001b[39m'\u001b[39m:\n\u001b[0;32m--> 710\u001b[0m     res \u001b[39m=\u001b[39m _minimize_lbfgsb(fun, x0, args, jac, bounds,\n\u001b[1;32m    711\u001b[0m                            callback\u001b[39m=\u001b[39;49mcallback, \u001b[39m*\u001b[39;49m\u001b[39m*\u001b[39;49moptions)\n\u001b[1;32m    712\u001b[0m \u001b[39melif\u001b[39;00m meth \u001b[39m==\u001b[39m \u001b[39m'\u001b[39m\u001b[39mtnc\u001b[39m\u001b[39m'\u001b[39m:\n\u001b[1;32m    713\u001b[0m     res \u001b[39m=\u001b[39m _minimize_tnc(fun, x0, args, jac, bounds, callback\u001b[39m=\u001b[39mcallback,\n\u001b[1;32m    714\u001b[0m                         \u001b[39m*\u001b[39m\u001b[39m*\u001b[39moptions)\n",
      "File \u001b[0;32m~/venv-test/lib/python3.10/site-packages/scipy/optimize/_lbfgsb_py.py:365\u001b[0m, in \u001b[0;36m_minimize_lbfgsb\u001b[0;34m(fun, x0, args, jac, bounds, disp, maxcor, ftol, gtol, eps, maxfun, maxiter, iprint, callback, maxls, finite_diff_rel_step, **unknown_options)\u001b[0m\n\u001b[1;32m    359\u001b[0m task_str \u001b[39m=\u001b[39m task\u001b[39m.\u001b[39mtobytes()\n\u001b[1;32m    360\u001b[0m \u001b[39mif\u001b[39;00m task_str\u001b[39m.\u001b[39mstartswith(\u001b[39mb\u001b[39m\u001b[39m'\u001b[39m\u001b[39mFG\u001b[39m\u001b[39m'\u001b[39m):\n\u001b[1;32m    361\u001b[0m     \u001b[39m# The minimization routine wants f and g at the current x.\u001b[39;00m\n\u001b[1;32m    362\u001b[0m     \u001b[39m# Note that interruptions due to maxfun are postponed\u001b[39;00m\n\u001b[1;32m    363\u001b[0m     \u001b[39m# until the completion of the current minimization iteration.\u001b[39;00m\n\u001b[1;32m    364\u001b[0m     \u001b[39m# Overwrite f and g:\u001b[39;00m\n\u001b[0;32m--> 365\u001b[0m     f, g \u001b[39m=\u001b[39m func_and_grad(x)\n\u001b[1;32m    366\u001b[0m \u001b[39melif\u001b[39;00m task_str\u001b[39m.\u001b[39mstartswith(\u001b[39mb\u001b[39m\u001b[39m'\u001b[39m\u001b[39mNEW_X\u001b[39m\u001b[39m'\u001b[39m):\n\u001b[1;32m    367\u001b[0m     \u001b[39m# new iteration\u001b[39;00m\n\u001b[1;32m    368\u001b[0m     n_iterations \u001b[39m+\u001b[39m\u001b[39m=\u001b[39m \u001b[39m1\u001b[39m\n",
      "File \u001b[0;32m~/venv-test/lib/python3.10/site-packages/scipy/optimize/_differentiable_functions.py:285\u001b[0m, in \u001b[0;36mScalarFunction.fun_and_grad\u001b[0;34m(self, x)\u001b[0m\n\u001b[1;32m    283\u001b[0m \u001b[39mif\u001b[39;00m \u001b[39mnot\u001b[39;00m np\u001b[39m.\u001b[39marray_equal(x, \u001b[39mself\u001b[39m\u001b[39m.\u001b[39mx):\n\u001b[1;32m    284\u001b[0m     \u001b[39mself\u001b[39m\u001b[39m.\u001b[39m_update_x_impl(x)\n\u001b[0;32m--> 285\u001b[0m \u001b[39mself\u001b[39;49m\u001b[39m.\u001b[39;49m_update_fun()\n\u001b[1;32m    286\u001b[0m \u001b[39mself\u001b[39m\u001b[39m.\u001b[39m_update_grad()\n\u001b[1;32m    287\u001b[0m \u001b[39mreturn\u001b[39;00m \u001b[39mself\u001b[39m\u001b[39m.\u001b[39mf, \u001b[39mself\u001b[39m\u001b[39m.\u001b[39mg\n",
      "File \u001b[0;32m~/venv-test/lib/python3.10/site-packages/scipy/optimize/_differentiable_functions.py:251\u001b[0m, in \u001b[0;36mScalarFunction._update_fun\u001b[0;34m(self)\u001b[0m\n\u001b[1;32m    249\u001b[0m \u001b[39mdef\u001b[39;00m \u001b[39m_update_fun\u001b[39m(\u001b[39mself\u001b[39m):\n\u001b[1;32m    250\u001b[0m     \u001b[39mif\u001b[39;00m \u001b[39mnot\u001b[39;00m \u001b[39mself\u001b[39m\u001b[39m.\u001b[39mf_updated:\n\u001b[0;32m--> 251\u001b[0m         \u001b[39mself\u001b[39;49m\u001b[39m.\u001b[39;49m_update_fun_impl()\n\u001b[1;32m    252\u001b[0m         \u001b[39mself\u001b[39m\u001b[39m.\u001b[39mf_updated \u001b[39m=\u001b[39m \u001b[39mTrue\u001b[39;00m\n",
      "File \u001b[0;32m~/venv-test/lib/python3.10/site-packages/scipy/optimize/_differentiable_functions.py:155\u001b[0m, in \u001b[0;36mScalarFunction.__init__.<locals>.update_fun\u001b[0;34m()\u001b[0m\n\u001b[1;32m    154\u001b[0m \u001b[39mdef\u001b[39;00m \u001b[39mupdate_fun\u001b[39m():\n\u001b[0;32m--> 155\u001b[0m     \u001b[39mself\u001b[39m\u001b[39m.\u001b[39mf \u001b[39m=\u001b[39m fun_wrapped(\u001b[39mself\u001b[39;49m\u001b[39m.\u001b[39;49mx)\n",
      "File \u001b[0;32m~/venv-test/lib/python3.10/site-packages/scipy/optimize/_differentiable_functions.py:137\u001b[0m, in \u001b[0;36mScalarFunction.__init__.<locals>.fun_wrapped\u001b[0;34m(x)\u001b[0m\n\u001b[1;32m    133\u001b[0m \u001b[39mself\u001b[39m\u001b[39m.\u001b[39mnfev \u001b[39m+\u001b[39m\u001b[39m=\u001b[39m \u001b[39m1\u001b[39m\n\u001b[1;32m    134\u001b[0m \u001b[39m# Send a copy because the user may overwrite it.\u001b[39;00m\n\u001b[1;32m    135\u001b[0m \u001b[39m# Overwriting results in undefined behaviour because\u001b[39;00m\n\u001b[1;32m    136\u001b[0m \u001b[39m# fun(self.x) will change self.x, with the two no longer linked.\u001b[39;00m\n\u001b[0;32m--> 137\u001b[0m fx \u001b[39m=\u001b[39m fun(np\u001b[39m.\u001b[39;49mcopy(x), \u001b[39m*\u001b[39;49margs)\n\u001b[1;32m    138\u001b[0m \u001b[39m# Make sure the function returns a true scalar\u001b[39;00m\n\u001b[1;32m    139\u001b[0m \u001b[39mif\u001b[39;00m \u001b[39mnot\u001b[39;00m np\u001b[39m.\u001b[39misscalar(fx):\n",
      "File \u001b[0;32m~/sys_dyn/models/calibrator.py:33\u001b[0m, in \u001b[0;36mCalibrator._least_squares.<locals>.objective_function\u001b[0;34m(params)\u001b[0m\n\u001b[1;32m     31\u001b[0m \u001b[39mself\u001b[39m\u001b[39m.\u001b[39m_update_scenario_params(params)\n\u001b[1;32m     32\u001b[0m \u001b[39m# Exécuter la simulation\u001b[39;00m\n\u001b[0;32m---> 33\u001b[0m all_simulated_data \u001b[39m=\u001b[39m \u001b[39mself\u001b[39;49m\u001b[39m.\u001b[39;49mscenario\u001b[39m.\u001b[39;49mrun(\u001b[39m91\u001b[39;49m, \u001b[39m1\u001b[39;49m)\n\u001b[1;32m     35\u001b[0m \u001b[39m# Filtrer pour obtenir uniquement les données des stocks\u001b[39;00m\n\u001b[1;32m     36\u001b[0m \u001b[39m# Supposons que vous ayez une liste des noms de stocks\u001b[39;00m\n\u001b[1;32m     37\u001b[0m stock_names \u001b[39m=\u001b[39m [name \u001b[39mfor\u001b[39;00m name \u001b[39min\u001b[39;00m \u001b[39mself\u001b[39m\u001b[39m.\u001b[39mscenario\u001b[39m.\u001b[39minitial_values\u001b[39m.\u001b[39mkeys()]\n",
      "File \u001b[0;32m~/sys_dyn/models/scenario.py:70\u001b[0m, in \u001b[0;36mScenario.run\u001b[0;34m(self, simulation_time, dt)\u001b[0m\n\u001b[1;32m     68\u001b[0m \u001b[39mdef\u001b[39;00m \u001b[39mrun\u001b[39m(\u001b[39mself\u001b[39m, simulation_time, dt):\n\u001b[1;32m     69\u001b[0m     simulation \u001b[39m=\u001b[39m \u001b[39mself\u001b[39m\u001b[39m.\u001b[39mconstruct_simulation()\n\u001b[0;32m---> 70\u001b[0m     \u001b[39mself\u001b[39m\u001b[39m.\u001b[39mresults \u001b[39m=\u001b[39m simulation\u001b[39m.\u001b[39;49mrun(until\u001b[39m=\u001b[39;49msimulation_time, dt\u001b[39m=\u001b[39;49mdt)\n\u001b[1;32m     71\u001b[0m     \u001b[39mreturn\u001b[39;00m \u001b[39mself\u001b[39m\u001b[39m.\u001b[39mresults\n",
      "File \u001b[0;32m~/sys_dyn/models/simulation.py:19\u001b[0m, in \u001b[0;36mSimulation.run\u001b[0;34m(self, until, dt)\u001b[0m\n\u001b[1;32m     17\u001b[0m \u001b[39mwhile\u001b[39;00m time \u001b[39m<\u001b[39m until:\n\u001b[1;32m     18\u001b[0m     \u001b[39mfor\u001b[39;00m component \u001b[39min\u001b[39;00m \u001b[39mself\u001b[39m\u001b[39m.\u001b[39mcomponents:\n\u001b[0;32m---> 19\u001b[0m         component\u001b[39m.\u001b[39;49mstep(dt)\n\u001b[1;32m     20\u001b[0m     \u001b[39mself\u001b[39m\u001b[39m.\u001b[39mrecord_state(time)\n\u001b[1;32m     21\u001b[0m     time \u001b[39m+\u001b[39m\u001b[39m=\u001b[39m dt\n",
      "File \u001b[0;32m~/sys_dyn/models/flow.py:33\u001b[0m, in \u001b[0;36mFlow.step\u001b[0;34m(self, dt)\u001b[0m\n\u001b[1;32m     31\u001b[0m \u001b[39m# Réduire le stock source\u001b[39;00m\n\u001b[1;32m     32\u001b[0m \u001b[39mif\u001b[39;00m \u001b[39mself\u001b[39m\u001b[39m.\u001b[39msource:\n\u001b[0;32m---> 33\u001b[0m     \u001b[39mself\u001b[39;49m\u001b[39m.\u001b[39;49msource\u001b[39m.\u001b[39;49mchange(\u001b[39m-\u001b[39;49mflow_rate \u001b[39m*\u001b[39;49m dt)\n\u001b[1;32m     34\u001b[0m \u001b[39m# Augmenter le stock destination\u001b[39;00m\n\u001b[1;32m     35\u001b[0m \u001b[39mif\u001b[39;00m \u001b[39mself\u001b[39m\u001b[39m.\u001b[39mdestination:\n",
      "File \u001b[0;32m~/sys_dyn/models/stock.py:15\u001b[0m, in \u001b[0;36mStock.change\u001b[0;34m(self, amount)\u001b[0m\n\u001b[1;32m     11\u001b[0m new_value \u001b[39m=\u001b[39m \u001b[39mself\u001b[39m\u001b[39m.\u001b[39mvalue \u001b[39m+\u001b[39m amount\n\u001b[1;32m     12\u001b[0m \u001b[39mif\u001b[39;00m \u001b[39mnot\u001b[39;00m np\u001b[39m.\u001b[39misfinite(\n\u001b[1;32m     13\u001b[0m     new_value\n\u001b[1;32m     14\u001b[0m ):  \u001b[39m# Vérifier si la nouvelle valeur est infinie ou NaN\u001b[39;00m\n\u001b[0;32m---> 15\u001b[0m     \u001b[39mraise\u001b[39;00m \u001b[39mValueError\u001b[39;00m(\u001b[39m\"\u001b[39m\u001b[39mStock value became non-finite\u001b[39m\u001b[39m\"\u001b[39m)\n\u001b[1;32m     16\u001b[0m \u001b[39mself\u001b[39m\u001b[39m.\u001b[39mvalue \u001b[39m=\u001b[39m new_value\n",
      "\u001b[0;31mValueError\u001b[0m: Stock value became non-finite"
     ]
    }
   ],
   "source": [
    "# Création de l'objet Calibrator et exécution de la calibration\n",
    "calibrator = Calibrator(scenario1)\n",
    "optimized_params = calibrator.calibrate(df, method=\"least_squares\")"
   ]
  },
  {
   "cell_type": "code",
   "execution_count": null,
   "metadata": {},
   "outputs": [
    {
     "data": {
      "text/plain": [
       "array([0.1 , 0.02, 0.01, 0.1 ])"
      ]
     },
     "execution_count": 4,
     "metadata": {},
     "output_type": "execute_result"
    }
   ],
   "source": [
    "optimized_params"
   ]
  },
  {
   "cell_type": "code",
   "execution_count": null,
   "metadata": {},
   "outputs": [],
   "source": []
  }
 ],
 "metadata": {
  "kernelspec": {
   "display_name": "venv-test",
   "language": "python",
   "name": "python3"
  },
  "language_info": {
   "codemirror_mode": {
    "name": "ipython",
    "version": 3
   },
   "file_extension": ".py",
   "mimetype": "text/x-python",
   "name": "python",
   "nbconvert_exporter": "python",
   "pygments_lexer": "ipython3",
   "version": "3.10.12"
  }
 },
 "nbformat": 4,
 "nbformat_minor": 2
}
